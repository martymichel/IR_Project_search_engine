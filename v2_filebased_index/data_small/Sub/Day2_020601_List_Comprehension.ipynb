{
 "cells": [
  {
   "cell_type": "markdown",
   "id": "c8ffe093-336f-46d1-9c45-d121f33ad4b8",
   "metadata": {},
   "source": [
    "# 8 Dinge, die man wissen muss, um Comprehension in Python zu meistern"
   ]
  },
  {
   "cell_type": "markdown",
   "id": "0eaab499-e126-411a-81de-6c3eaee5cd4f",
   "metadata": {},
   "source": [
    "<font size=\"+1\">\n",
    "    <div class=\"alert alert-block alert-info\" style=\"margin-top: 20px\">\n",
    "        Comprehension in Python gilt als eine der <b><i>Pythonic</i></b> pythonischen Techniken.<br>\n",
    "        <br>\n",
    "        Es gibt mehrere Formen von Comprehension, z.B. <b>List Comprehension</b> und <b>Dictionary Comprehension</b>.<br>\n",
    "        Darüber hinaus gibt es für jede Comprehension eine Vielzahl von Möglichkeiten,<br>\n",
    "        wie z.B. die Verwendung von verschachtelten <b>for-Schleifen</b> und die Anwendung einer <b>Filterbedingung</b>.<br>\n",
    "        <br>\n",
    "        In diesem Notebook werden die wesentlichen Anwendungsfälle über Comprehension in Python aufgezeigt.<br>\n",
    "        <br>\n",
    "        <b>HINWEIS</b>: Es werden die relevanten Techniken hauptsächlich anhand von <b>Listen Comprehension</b> dargestellt.<br>\n",
    "        Diese Techniken kann auf andere Formen Comprehension in Python angewendet werden (z.B. <i>Dictionary Comprehension</i>).\n",
    "        <br>\n",
    "        <br>\n",
    "    </div>\n",
    "</font>\n",
    "    \n"
   ]
  },
  {
   "cell_type": "markdown",
   "id": "1ee7b498-c05b-4ca4-b23b-e69dc0a131fa",
   "metadata": {},
   "source": [
    "## 1. Basis Form von List Comprehension"
   ]
  },
  {
   "cell_type": "markdown",
   "id": "2a95100c-095b-40fd-87e4-ffbe740b0f6b",
   "metadata": {},
   "source": [
    "Die Grundform des <i>List Comprehension</i> ist <code>[expression for x in iterable]</code>.<br>\n",
    "<br>\n",
    "In dieser Form stellt die <b>iterable</b> eine <i>Datenvariable</i> dar, die <i>mehrere Elemente</i> liefern kann,<br>\n",
    "und <b>x</b> steht für jedes Element.<br>"
   ]
  },
  {
   "cell_type": "code",
   "execution_count": null,
   "id": "a6fbcc8a-8bc3-47be-81a0-aa385e6f5de4",
   "metadata": {},
   "outputs": [],
   "source": [
    "# Datenvariable\n",
    "liste = range(5)"
   ]
  },
  {
   "cell_type": "markdown",
   "id": "4dfa3983-4f76-46b1-966f-4944dae4391a",
   "metadata": {},
   "source": [
    "Der Ausdruck <b>x</b> enthält <b>einen Wert</b>, der aus <b>einem Element</b> besteht der aus dem Listenobjekt sequentiel durchlaufen wurde."
   ]
  },
  {
   "cell_type": "code",
   "execution_count": null,
   "id": "519cf81f-fc31-4271-aab2-532577ff2be8",
   "metadata": {},
   "outputs": [],
   "source": [
    "for x in liste:\n",
    "    print(x)"
   ]
  },
  {
   "cell_type": "markdown",
   "id": "6b9946db-8d96-4ee9-b6b2-af1c545e51bb",
   "metadata": {},
   "source": [
    "#### Das Codeschnipsel zeigt ein einfaches Beispiel."
   ]
  },
  {
   "cell_type": "markdown",
   "id": "662780d7-fddc-44fc-a3d6-104ed872d0e5",
   "metadata": {},
   "source": [
    "Im Beispiel beginnen wir mit <b>einer Liste von Zahlen</b> (die Variable numbers),"
   ]
  },
  {
   "cell_type": "code",
   "execution_count": null,
   "id": "5bdec717-0673-491a-b62f-933c879a8d55",
   "metadata": {},
   "outputs": [],
   "source": [
    "numbers = [2, 4, 6, 8]"
   ]
  },
  {
   "cell_type": "markdown",
   "id": "fbc10f7e-3865-4297-9619-bfd5a9f5e0cc",
   "metadata": {},
   "source": [
    "aus der wir ein Listenobjekt (die Variable <code>squares</code>) erstellen, wobei jede Zahl ein Quadrat<br>\n",
    "mit dem Ausdruck <code>x*x</code> der Zahl ist."
   ]
  },
  {
   "cell_type": "code",
   "execution_count": null,
   "id": "3f072a58-00a1-4b01-a4cc-fa1f33c8c718",
   "metadata": {},
   "outputs": [],
   "source": [
    "squares = [x*x for x in numbers]"
   ]
  },
  {
   "cell_type": "code",
   "execution_count": null,
   "id": "d932265a-21ef-45dd-85e2-f74e65c6b36c",
   "metadata": {},
   "outputs": [],
   "source": [
    "squares"
   ]
  },
  {
   "cell_type": "code",
   "execution_count": null,
   "id": "25821cc6-5d02-4bc0-b0c0-d01e6361bc2c",
   "metadata": {},
   "outputs": [],
   "source": [
    "assert squares == [4, 16, 36, 64] , \"Die Listen sind ungleich\""
   ]
  },
  {
   "cell_type": "markdown",
   "id": "1a068253-35fe-4f13-9725-aacbb4e62ad2",
   "metadata": {},
   "source": [
    "In Python, ist <b>assert</b> ein einfacher Befehle der eine <b>Exception</b> werfen kann falls die Bediengung <code>False</code> ist <br>\n",
    "wie folgt aufgebaut ist:\n",
    "\n",
    "<code><b>assert</b> <i>expression</i> <i>[, assertion_message]</i>\n",
    "    \n",
    "https://realpython.com/python-assert-statement/"
   ]
  },
  {
   "cell_type": "markdown",
   "id": "8b34f1ff-3b02-498c-a409-123e8af99fbb",
   "metadata": {},
   "source": [
    "## 2. Eine Filterbedingung anwenden"
   ]
  },
  {
   "cell_type": "markdown",
   "id": "cbae6a93-bab0-4245-937c-2abd501d6cca",
   "metadata": {},
   "source": [
    "Manchmal sollten die Elemente in der Wiederholungstabelle so gefiltert werden,<br>\n",
    "dass nur Elemente, die bestimmte Kriterien erfüllen, zur Auswertung an den Ausdruck gesendet werden können.<br>In diesem Fall können Sie die folgende Form verwenden: <code>[expression for x in iterable <i>if condition</i>]</code>."
   ]
  },
  {
   "cell_type": "code",
   "execution_count": null,
   "id": "1c2ef22b-189c-4e2d-b8d8-5622d9f8d7f5",
   "metadata": {},
   "outputs": [],
   "source": [
    "squares_fours = [x*x for x in numbers if x % 4 == 0]"
   ]
  },
  {
   "cell_type": "code",
   "execution_count": null,
   "id": "87a68178-94ff-4e97-924e-2c6804ab3bf9",
   "metadata": {},
   "outputs": [],
   "source": [
    "squares_fours"
   ]
  },
  {
   "cell_type": "code",
   "execution_count": null,
   "id": "896928d5-22af-40fe-a503-c03baa775a5b",
   "metadata": {},
   "outputs": [],
   "source": [
    "assert squares_fours == [16, 64]"
   ]
  },
  {
   "cell_type": "markdown",
   "id": "8c095da6-7120-4b3a-bc93-fdf9dee06c74",
   "metadata": {},
   "source": [
    "Wie Sie im Code sehen können, verwenden wir <code>x % 4 == 0</code>, um die Elemente auszuwählen,<br>\n",
    "die ein Vielfaches von vier sind (d. h. <b>4</b> und <b>8</b>), was zu der Liste <b>[16, 64]</b> führt."
   ]
  },
  {
   "cell_type": "markdown",
   "id": "e24c3163-6ad3-42c2-9838-0170f5d78da7",
   "metadata": {},
   "source": [
    "## 3. Verschachtelte for-Schleifen verwenden"
   ]
  },
  {
   "cell_type": "markdown",
   "id": "e99e491d-d31f-4b96-aa0e-28694a99dfc6",
   "metadata": {},
   "source": [
    "Bei der Einführung der Grundform des <i>List Comprehension</i> hätte erwähnt werden können,<br>\n",
    "dass das <i>List Comprehension</i> eine <b>Kurzform</b> einer regulären for-Schleifenoperation ist,<br>\n",
    "wie unten dargestellt:"
   ]
  },
  {
   "cell_type": "code",
   "execution_count": null,
   "id": "b182b750-a5a4-4af6-8615-a0489369e618",
   "metadata": {},
   "outputs": [],
   "source": [
    "numbers = [2, 4, 6, 8]\n",
    "squares = []\n",
    "\n",
    "for number in numbers:\n",
    "    squares.append(number*number)\n",
    "\n",
    "squares"
   ]
  },
  {
   "cell_type": "markdown",
   "id": "e606c269-723e-4a5f-ad35-152721568823",
   "metadata": {},
   "source": [
    "Offensichtlich ist das <i>List Comprehension</i> eine viel sauberere Lösung für die Erstellung der Quadratvariablen.<br>\n",
    "Im Weiteren ist kann <b>eine</b> for-Schleife in eine <b>andere</b> for-Schleife einbetten werden."
   ]
  },
  {
   "cell_type": "code",
   "execution_count": null,
   "id": "94def616-549a-4dc9-88c7-ec3c27ec6b11",
   "metadata": {},
   "outputs": [],
   "source": [
    "for item in [[1, 2, 3], [4, 5, 6], [7, 8, 9]]:\n",
    "    for x in item:\n",
    "        print(x)"
   ]
  },
  {
   "cell_type": "markdown",
   "id": "2fe529b4-7311-47b1-a879-7aedae91dd92",
   "metadata": {},
   "source": [
    "Verwenden verschachtelter for-Schleifen mit <i>List Comprehension</i>.<br>\n",
    "Der folgende Codeschnipsel zeigt ein Beispiel."
   ]
  },
  {
   "cell_type": "code",
   "execution_count": null,
   "id": "4aef2058-38bd-4b19-b87a-016c637b6955",
   "metadata": {},
   "outputs": [],
   "source": [
    "numbers_list = [[1, 2, 3], [-1, -2, -3]]"
   ]
  },
  {
   "cell_type": "code",
   "execution_count": null,
   "id": "a100ebc2-63bb-4d76-bbd8-63624d611f55",
   "metadata": {},
   "outputs": [],
   "source": [
    "squares_nested = [x*x for numbers in numbers_list for x in numbers]"
   ]
  },
  {
   "cell_type": "code",
   "execution_count": null,
   "id": "a830ff09-d421-4164-b1a7-03ba5f80de86",
   "metadata": {},
   "outputs": [],
   "source": [
    "squares_nested"
   ]
  },
  {
   "cell_type": "markdown",
   "id": "cc3ad51f-c2e4-4383-8b76-8f9be682fe3e",
   "metadata": {},
   "source": [
    "Die Zeile <code>[x*x for numbers in numbers_list for x in numbers]</code> verwendet die verschachtelten for-Schleifen.<br>\n",
    "Manche Leute finden das vielleicht verwirrend zu lesen.<br>\n",
    "<br>\n",
    "Der Trick ist, dass Sie sie einfach so lesen, als ob Sie verschachtelte for-Schleifen lesen würden.<br>\n",
    "Das <b>erste for</b> steht für die <b>äussere Schleife</b> und das <b>zweite for</b> für die <b>innere Schleife</b>.\n",
    "\n"
   ]
  },
  {
   "cell_type": "markdown",
   "id": "e7e1cdc0-314d-435f-aedd-87f5b7f193f6",
   "metadata": {},
   "source": [
    "<code>[expression for outer_item in outer_items for inner_item in outer_item]</code>"
   ]
  },
  {
   "cell_type": "markdown",
   "id": "0cf98a41-c0b9-44cf-a612-70060ef223be",
   "metadata": {},
   "source": [
    "weiteres Beispiel"
   ]
  },
  {
   "cell_type": "code",
   "execution_count": null,
   "id": "156cdeae-0188-4ef2-9e02-40018d5b8c71",
   "metadata": {},
   "outputs": [],
   "source": [
    "my_list=[[1,2],[4,5,6],[7,8]]\n",
    "\n",
    "result=[v1 for sub_list in my_list for v1 in sub_list]\n",
    "\n",
    "result"
   ]
  },
  {
   "attachments": {
    "image.png": {
     "image/png": "[encoded data removed]"
    }
   },
   "cell_type": "markdown",
   "id": "18984705-86e9-4fd2-93b0-721f2e94833a",
   "metadata": {},
   "source": [
    "![image.png](attachment:image.png)"
   ]
  },
  {
   "cell_type": "markdown",
   "id": "2cfe3c7f-4af0-4761-ab10-542f1709aab6",
   "metadata": {},
   "source": [
    "## 4. Beliebige Iterabilien verwenden"
   ]
  },
  {
   "cell_type": "code",
   "execution_count": null,
   "id": "cfeb9e9d-b614-41a4-84e0-426e11b1ca9f",
   "metadata": {},
   "outputs": [],
   "source": [
    "lower_names = [\"john\", \"mike\", \"ashley\"]\n",
    "\n",
    "upper_names = [x.upper() for x in lower_names]\n",
    "\n",
    "upper_names"
   ]
  },
  {
   "cell_type": "markdown",
   "id": "b09509e3-64b9-46d5-8b7f-77127ce97b71",
   "metadata": {},
   "source": [
    "## 5. Basis Form von Dictionary Comprehension"
   ]
  },
  {
   "cell_type": "markdown",
   "id": "27e0957e-cb79-4762-b93b-6707a8e835f8",
   "metadata": {},
   "source": [
    "Neben dem <i>List Comprehension</i> gibt es auch für Dictionary, ein Comprehension<br>\n",
    "das als <i>Dictionary Comprehension</i> bezeichnet wird.<br>\n",
    "\n",
    "Die Grundform des <b>Dictionary Comprehension</b> ist wie folgt:"
   ]
  },
  {
   "cell_type": "markdown",
   "id": "44d9560e-88db-4741-9c2c-e5444efeeae8",
   "metadata": {},
   "source": [
    "<code><b>{</b> key_expr : value_expr for x in iterable<b> }</b></code>"
   ]
  },
  {
   "cell_type": "markdown",
   "id": "9e1a466a-3a5d-48d4-910d-0b86bf7c025c",
   "metadata": {},
   "source": [
    "Das <b>Dictionary Comprehension</b> unterscheidet sich in zwei Punkten vom <b>List Comprehension</b>.\n",
    "\n",
    " * Es werden geschweifte Klammern anstelle von eckigen Klammern verwendet.<br>\n",
    " * Es gibt zwei Ausdrücke anstelle eines Ausdrucks.<br> \n",
    "\n",
    "Der erste Ausdruck bezieht sich auf die <b>key</b> (Schlüssel) und der zweite auf die <b>value</b> (Werte).<br>\n",
    "Diese beiden Ausdrücke werden durch einen <b>Doppelpunkt</b> getrennt.<br>\n",
    "<br>\n",
    "Ein Beispiel für die Anwendung des <b>Dictionary Comprehension</b> Syntax:"
   ]
  },
  {
   "cell_type": "code",
   "execution_count": null,
   "id": "7cc42937-ac16-4771-b6fc-74aa21519639",
   "metadata": {},
   "outputs": [],
   "source": [
    "primes = [2, 3, 5, 7]"
   ]
  },
  {
   "cell_type": "code",
   "execution_count": null,
   "id": "d5333d45-c8a7-4279-b00f-d70931f3d0c0",
   "metadata": {},
   "outputs": [],
   "source": [
    "squares_primes = { x : x*x for x in primes}"
   ]
  },
  {
   "cell_type": "code",
   "execution_count": null,
   "id": "d92fc00a-0883-4821-b4cc-aaee37111eae",
   "metadata": {},
   "outputs": [],
   "source": [
    "squares_primes"
   ]
  },
  {
   "cell_type": "markdown",
   "id": "57ce82ee-c964-4cad-a6b7-1c3f36f93fe5",
   "metadata": {},
   "source": [
    "Nun ist <code>squares_primes</code> vom type dict"
   ]
  },
  {
   "cell_type": "code",
   "execution_count": null,
   "id": "b99772fb-57d4-4b63-a64e-a6507ff69594",
   "metadata": {},
   "outputs": [],
   "source": [
    "type(squares_primes)"
   ]
  },
  {
   "cell_type": "markdown",
   "id": "9b9da260-d22b-4986-8539-c74e34d4a551",
   "metadata": {},
   "source": [
    "Dadurch kann es als dict verwendet werden."
   ]
  },
  {
   "cell_type": "code",
   "execution_count": null,
   "id": "5076bfbf-0f59-4daa-a852-31d1862990d7",
   "metadata": {},
   "outputs": [],
   "source": [
    "squares_primes_1 = { x : y for x,y in squares_primes.items()}"
   ]
  },
  {
   "cell_type": "code",
   "execution_count": null,
   "id": "9224b134-3db9-4c1e-9210-a67cf98ef602",
   "metadata": {},
   "outputs": [],
   "source": [
    "squares_primes_1"
   ]
  },
  {
   "cell_type": "markdown",
   "id": "9d58ed4d-38c0-46c2-ab55-55cf447dd7f2",
   "metadata": {},
   "source": [
    "## 6. Basis Form von Set Comprehension"
   ]
  },
  {
   "cell_type": "markdown",
   "id": "44dd40bd-dda5-431c-aab1-fb73eaa32010",
   "metadata": {},
   "source": [
    "Die Grundform des <b>Set Comprehension</b> ist wie folgt:"
   ]
  },
  {
   "cell_type": "markdown",
   "id": "54538544-f226-4200-afd7-a99270809666",
   "metadata": {},
   "source": [
    "<code><b>{</b> expression for x in iterable <b>}</b>"
   ]
  },
  {
   "cell_type": "markdown",
   "id": "3d1d43e5-68cb-4415-a192-26a6173c02b0",
   "metadata": {},
   "source": [
    "Das ist doch ziemlich einfach, oder?<br>\n",
    "Im Vergleich zum  <i>List Comprehension</i> besteht der einzige Unterschied zum <b>Set Comprehension</b> darin,<br>\n",
    "dass <b>geschweifte</b> Klammern verwendet werden.<br>\n",
    "\n",
    "Ein Beispiel für die Anwendung des <b>Set Comprehension</b> Syntax:"
   ]
  },
  {
   "cell_type": "code",
   "execution_count": null,
   "id": "1262df58-c5f6-4aaa-97dd-d3ed7b007c3c",
   "metadata": {},
   "outputs": [],
   "source": [
    "numbers = [-3, -2, -1, 1, 2, 3]"
   ]
  },
  {
   "cell_type": "code",
   "execution_count": null,
   "id": "9eee8db2-0dc1-47ac-a137-1cbfb8bf6ceb",
   "metadata": {},
   "outputs": [],
   "source": [
    "squares_set = {x*x for x in numbers}"
   ]
  },
  {
   "cell_type": "code",
   "execution_count": null,
   "id": "7a14c129-cab0-4b52-a76f-775962e990ee",
   "metadata": {},
   "outputs": [],
   "source": [
    "squares_set"
   ]
  },
  {
   "cell_type": "markdown",
   "id": "63aca724-9173-4c6b-8024-c918b50d2d97",
   "metadata": {},
   "source": [
    "<b>Zur Errinerung!!</b><br>\n",
    "Das <b>Set</b> entfernt doppelte Elemente.<br>\n",
    "Im obigen Beispiel hat das resultierende Set-Objekt nur drei Zahlen anstelle von sechs Elementen."
   ]
  },
  {
   "cell_type": "markdown",
   "id": "401ebddd-e820-4f34-b017-83461fc9a3b8",
   "metadata": {},
   "source": [
    "## 7. Generator Expression"
   ]
  },
  {
   "cell_type": "markdown",
   "id": "8fbdbe4a-9613-44ae-b6ca-0bfdabc095cb",
   "metadata": {},
   "source": [
    "Diese Technik wird auch als <b>Generator Comprehension</b> bezeichnet,<br>\n",
    "um nur mit anderen comprehension konsistent zu sein, da sie eine sehr ähnliche Syntax haben.<br>\n",
    "\n",
    "Ich nenne es aber lieber Generatorausdruck <b>Generator Expression</b><br>\n",
    "den sie hat die folgende Form:"
   ]
  },
  {
   "cell_type": "markdown",
   "id": "1094d296-0e54-4b80-8b3c-226132f75ccf",
   "metadata": {},
   "source": [
    "<code><b>(</b> expression for x in iterable <b>)</b>"
   ]
  },
  {
   "cell_type": "markdown",
   "id": "f13f734e-5b73-4f05-bd0c-3218ddc33eaf",
   "metadata": {},
   "source": [
    "Sie sieht aus wie eine <i>List Comprehension</i>, ausser dass sie <b>runde</b> anstelle der <i>eckigen</i> Klammern verwendet.<br>\n",
    "\n",
    "Wir errinern uns, dass Listen-, Dictionary- und Set-Comprehension zu einem list, dict bzw. set Objekt führen. \n",
    "\n",
    "Ein Beispiel für die Anwendung des <b>Generator Expression</b> Syntax:"
   ]
  },
  {
   "cell_type": "code",
   "execution_count": null,
   "id": "a60384c2-0eca-4e32-b812-d4ea7f0f1c20",
   "metadata": {},
   "outputs": [],
   "source": [
    "squares_gen = (x*x for x in range(100))"
   ]
  },
  {
   "cell_type": "code",
   "execution_count": null,
   "id": "77bd03dc-9870-457d-97fc-411a2d72a43a",
   "metadata": {},
   "outputs": [],
   "source": [
    "type(squares_gen)"
   ]
  },
  {
   "cell_type": "markdown",
   "id": "3389e379-1af3-47a1-952e-5ca86345849a",
   "metadata": {},
   "source": [
    "Verwendet wird ein Generator genau wie andere Iterables:"
   ]
  },
  {
   "cell_type": "code",
   "execution_count": null,
   "id": "e8738ba7-983f-497f-9dae-c3503c42e9f7",
   "metadata": {},
   "outputs": [],
   "source": [
    "squares_sum = sum(squares_gen)"
   ]
  },
  {
   "cell_type": "code",
   "execution_count": null,
   "id": "2234d2c8-ae25-4abb-8e6e-c52e5ec1037a",
   "metadata": {},
   "outputs": [],
   "source": [
    "squares_sum"
   ]
  },
  {
   "cell_type": "markdown",
   "id": "ffb2c310-9eca-4d0f-9343-6aad9e42cfa6",
   "metadata": {},
   "source": [
    "## 8. Missbrauchen Comprehension"
   ]
  },
  {
   "cell_type": "markdown",
   "id": "41c9101f-cb63-42e9-a3f7-a6a9d938be79",
   "metadata": {},
   "source": [
    "Comprehension hat eine saubere Syntax und sieht als Pythonic-Funktion cool aus.<br>\n",
    "Allerdings neigen die Leute dazu, es zu missbrauchen, wenn es gar nicht nötig ist.<br>\n",
    "\n",
    "Nehmen wir das <b>List Comprehension</b> als Beispiel:<br>\n",
    "Was halten Sie von der folgenden Verwendung?"
   ]
  },
  {
   "cell_type": "code",
   "execution_count": null,
   "id": "c8fbcf7f-a7e5-4056-a02e-571bf28447d3",
   "metadata": {},
   "outputs": [],
   "source": [
    "word = \"Python\""
   ]
  },
  {
   "cell_type": "code",
   "execution_count": null,
   "id": "53600ff0-5043-43b5-bebb-488507d79f14",
   "metadata": {},
   "outputs": [],
   "source": [
    "letter_list0 = [x for x in word]"
   ]
  },
  {
   "cell_type": "code",
   "execution_count": null,
   "id": "bfb7006f-2893-444d-bde6-09990814ba78",
   "metadata": {},
   "outputs": [],
   "source": [
    "letter_list0"
   ]
  },
  {
   "cell_type": "markdown",
   "id": "0e5c7cad-6ea6-485f-9a3c-1397f9b87aa9",
   "metadata": {},
   "source": [
    "Hier wird versuchet, eine Liste von Buchstaben aus einem Wort zu erstellen.<br>\n",
    "Aber wir erkennen nicht, dass eine Zeichenkette eine Iterable ist,<br>\n",
    "die direkt mit dem Listenkonstruktor verwendet werden kann. \n",
    "\n",
    "Eine bessere Lösung sollte daher wie folgt aussehen:"
   ]
  },
  {
   "cell_type": "code",
   "execution_count": null,
   "id": "a696ceac-5caf-496e-b242-05190d93493a",
   "metadata": {},
   "outputs": [],
   "source": [
    "letter_list1 = list(word)"
   ]
  },
  {
   "cell_type": "code",
   "execution_count": null,
   "id": "6be1ad12-cc66-4c3e-bab9-5bf2768e3096",
   "metadata": {},
   "outputs": [],
   "source": [
    "letter_list1"
   ]
  }
 ],
 "metadata": {
  "kernelspec": {
   "display_name": "Python 3 (ipykernel)",
   "language": "python",
   "name": "python3"
  },
  "language_info": {
   "codemirror_mode": {
    "name": "ipython",
    "version": 3
   },
   "file_extension": ".py",
   "mimetype": "text/x-python",
   "name": "python",
   "nbconvert_exporter": "python",
   "pygments_lexer": "ipython3",
   "version": "3.10.8"
  }
 },
 "nbformat": 4,
 "nbformat_minor": 5
}
