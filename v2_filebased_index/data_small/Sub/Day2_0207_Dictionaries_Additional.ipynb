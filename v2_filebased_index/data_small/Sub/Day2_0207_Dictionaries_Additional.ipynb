{
 "cells": [
  {
   "cell_type": "markdown",
   "metadata": {},
   "source": [
    "# What are dictionaries\n",
    "\n",
    "\n",
    "Full article can be read at<br>\n",
    "https://medium.com/python-pandemonium/python-dictionaries-45cacc2b76aa\n",
    "\n",
    "\n",
    "an other article<br>\n",
    "https://towardsdatascience.com/15-things-you-should-know-about-dictionaries-in-python-44c55e75405c"
   ]
  },
  {
   "cell_type": "markdown",
   "metadata": {},
   "source": [
    "## Introduction\n",
    "The python programming language natively implements a number of data structures. Lists, tuples, sets, dictionaries are but some of them. We will be looking at the dictionary data type in subsequent sections.\n",
    "### What are dictionaries ?\n",
    "![dictionary image](./data/dictionaries.jpg)\n",
    "\n",
    "A dictionary in python is a mapping object that maps keys to values, where the keys are unique within a collection and the values can hold any arbitrary value. In addition to being unique, keys are also required to be hashable. An object is said to be hashable if it has a hash value (implemented by a `__hash__()` method) that does not change during the object’s lifetime. Most commonly, we use immutable data types such as strings, integers, and tuples (only if they contain similarly immutable types) as dictionary keys. A dictionary’s data is always enclosed by a pair of curly braces `{ }`.\n",
    "Typically dictionaries look like this:"
   ]
  },
  {
   "cell_type": "code",
   "execution_count": null,
   "metadata": {},
   "outputs": [],
   "source": [
    "my_dict = {\"first_name\":\"John\",\"last_name\":\"Snow\",\"age\":16,\"gender\":\"Male\"}"
   ]
  },
  {
   "cell_type": "markdown",
   "metadata": {},
   "source": [
    "We have created a dictionary named `my_dict` where each key-value pair is separated by a full colon, with the key-value pairs as:\n",
    "- `first_name` - `John`\n",
    "- `last_name` - `Snow`\n",
    "- `age` - `16`\n",
    "- `gender` - `Male`"
   ]
  },
  {
   "cell_type": "markdown",
   "metadata": {},
   "source": [
    "### Comparisons\n",
    "Dictionaries are an implementation of [Associative Arrays](https://en.wikipedia.org/wiki/Associative_array). All Associative arrays have a structure of (key, value) pairs, where each key is unique for every collection. Other languages also have similar executions, such as:\n",
    "- Maps in Go\n",
    "- std::map in C++\n",
    "- Maps in Java\n",
    "- JavaScript objects\n",
    "\n",
    "Unlike sequenced data types like lists and tuples, where indexing is achieved using positional indices, dictionaries are indexed using their keys. Therefore, individual values can be accessed using these keys. \n",
    "Typically dictionaries store associative data, i.e data that is related. Examples of such data include the attributes of an object, `SQL` query results and csv-formatted information. Throughout this article, we will be using dictionaries to store job listing details from [Kaggle](https://www.kaggle.com/ardenn/brighter-monday-job-listings/data).\n",
    "\n",
    "## Dictionary Operations\n",
    "\n",
    "### Creation\n",
    "We initialize an empty dictionary using a pair of curly braces. This approach is often used when we expect to store some data at later stages of our operation.\n"
   ]
  },
  {
   "cell_type": "code",
   "execution_count": null,
   "metadata": {},
   "outputs": [],
   "source": [
    "empty_dict = {}"
   ]
  },
  {
   "cell_type": "markdown",
   "metadata": {},
   "source": [
    "In the line above, we have created an empty dictionary named `empty_dict`."
   ]
  },
  {
   "cell_type": "markdown",
   "metadata": {},
   "source": [
    "For instances when we have our data beforehand, we use curly braces with the key-value pairs. We can now create a dictionary to represent the second row of data in the `jobs.csv` file."
   ]
  },
  {
   "cell_type": "code",
   "execution_count": null,
   "metadata": {},
   "outputs": [],
   "source": [
    "job1 = {\"title\":\"Production Manager\",\"location\":\"Rest of Kenya\",\"job_type\":\"Full Time\",\n",
    "             \"employer\":\"The African Talent Company (TATC)\",\"category\":\"Farming\"}"
   ]
  },
  {
   "cell_type": "markdown",
   "metadata": {},
   "source": [
    "We just created a dictionary with the keys `title`,` location`, `job_type`, `employer`, `category` and assigned it to the variable `job1`."
   ]
  },
  {
   "cell_type": "markdown",
   "metadata": {},
   "source": [
    "Dictionaries can also be created using the `dict()` constructor. To do this we pass the constructor a sequence of key-value pairs. We could also pass in named arguments. Let's create a dictionary to represent the third row of data in the `jobs.csv` file, using both of these methods."
   ]
  },
  {
   "cell_type": "code",
   "execution_count": null,
   "metadata": {},
   "outputs": [],
   "source": [
    "# create an empty dictionary\n",
    "empty_property = dict()\n",
    "\n",
    "# create dictionary using a list of key-value tuples\n",
    "job2 = dict([(\"title\",\"Marketing & Business Development Manager\"),(\"location\",\"Mombasa\"),\\\n",
    "(\"job_type\",\"Full Time\"),\\\n",
    "(\"employer\",\"KUSCCO Limited (Kenya Union of Savings & Credit Co-operatives Limited)\"),\\\n",
    "(\"category\",\"Marketing & Communications\")])"
   ]
  },
  {
   "cell_type": "markdown",
   "metadata": {},
   "source": [
    "We passed a sequence, in this case a list of key-value tuples, to the `dict()` constructor to create our dictionary, and assigned it to the variable `job2`."
   ]
  },
  {
   "cell_type": "code",
   "execution_count": null,
   "metadata": {},
   "outputs": [],
   "source": [
    "# Using keyword arguments\n",
    "dict(title=\"Marketing & Business Development Manager\",location=\"Mombasa\",job_type=\"Full Time\",\n",
    "     employer=\"KUSCCO Limited (Kenya Union of Savings & Credit Co-operatives Limited)\",\n",
    "     category=\"Marketing & Communications\")"
   ]
  },
  {
   "cell_type": "markdown",
   "metadata": {},
   "source": [
    "Here, we created a dictionary using named arguments. The keys are the argument names, while the values are the argument values. It is however important to note that this method is only suitable when our keys are just simple strings."
   ]
  },
  {
   "cell_type": "markdown",
   "metadata": {},
   "source": [
    "### Accessing Items\n",
    "As we mentioned earlier on, dictionaries are indexed using their keys.To access a particular value in a dictionary we use the indexing operator (key inside square brackets). However, to use this method, we need to make sure the key we intend to retrieve exists, lest we get a `KeyError`. Checking for availability of a key is as easy as using the `in` operator.\n",
    "\n",
    "If you are like me, this is probably a lot of work. The good news, however, is that we have a better tool - the `get()` method. This method works by giving out a value if the key exists, or returning `None`. `None` sounds better than an error, right? What if we want to go even further, and return something, a placeholder of sorts? `get()` takes a second argument, a default value to be used in place of `None`. Now Let's use `in` to check if `title` exists in `job2`, then we can use indexing to retrieve its value. We'll also go ahead and use `get()` to retrieve `salary` from `job2`."
   ]
  },
  {
   "cell_type": "code",
   "execution_count": null,
   "metadata": {},
   "outputs": [],
   "source": [
    "# Check existence of title\n",
    "\"title\" in job2 # returns True\n",
    "\"salary\" in job2 # returns False\n",
    "\n",
    "# Using key indexing\n",
    "job2[\"title\"] # return 'Marketing & Business Development Manager'\n",
    "\n",
    "# Using get() method\n",
    "job2.get(\"title\") # return 'Marketing & Business Development Manager'\n",
    "job2.get(\"salary\") # return None\n",
    "\n",
    "# Passing a second argument to get()\n",
    "job2.get(\"salary\", 5000) #return 5000"
   ]
  },
  {
   "cell_type": "markdown",
   "metadata": {},
   "source": [
    "In the example above we use indexing to access the `title` from `job2` after making sure it is available using `in`. Similarly, we use `get()` to access the `title` and `salary`.  \n",
    "\n",
    "However, `job2` doesn't have a `salary` key so the return value is `None`. Adding a second argument, to `get()` now gives us `5000` instead of `None`."
   ]
  },
  {
   "cell_type": "markdown",
   "metadata": {},
   "source": [
    "### Modification\n",
    "Dictionaries can be modified directly using the keys or using the `update()` method. `update()` takes in a dictionary with the key-value pairs to be modified or added. For our demonstration, let's:\n",
    "- Add a new item (salary) to `job2` with a value of 10000.\n",
    "- Modify the `job_type` to be \"Part time\".\n",
    "- Update the `salary` to 20000.\n",
    "- Update the dictionary to include a new item (available) with a value of `True`."
   ]
  },
  {
   "cell_type": "code",
   "execution_count": null,
   "metadata": {},
   "outputs": [],
   "source": [
    "# Adding a new entry for salary using the index\n",
    "job2[\"salary\"] = 10000\n",
    "\n",
    "# Modifying the entry for job_type using the index\n",
    "job2[\"job_type\"] = \"Part time\"\n",
    "\n",
    "# Modifying the salary entry using update\n",
    "job2.update({\"salary\":20000})\n",
    "\n",
    "# Adding the available entry using update\n",
    "job2.update({\"available\":True})"
   ]
  },
  {
   "cell_type": "markdown",
   "metadata": {},
   "source": [
    "To add a new entry, we use syntax similar to indexing. If the key exists, then the value will be modified, however, if the key doesn't exist, a new entry will be created with the specified key and value. \n",
    "Initially, we assigned a value of 10000 to the `salary` key, but since `salary` doesn't exist, a new entry is created, with that value. For our second example, the `job_type` key exists, the value is modified to \"Part time\". Next, we use the `update()` method to change the `salary` value to 20000, since `salary` is already a key in the dictionary. Finally, we apply `update()` to the dictionary, a new entry is created with a key of `available` and value of `True`."
   ]
  },
  {
   "cell_type": "markdown",
   "metadata": {},
   "source": [
    "### Deletion\n",
    " We can now remove the just created `salary` entry from `job2`, and remove everything from `job1`."
   ]
  },
  {
   "cell_type": "code",
   "execution_count": null,
   "metadata": {},
   "outputs": [],
   "source": [
    "del job2[\"salary\"]\n",
    "del job2[\"available\"]\n",
    "print(job2) #return a dictionary without 'salary' and 'available' entries\n",
    "\n",
    "job1.clear()\n",
    "print(job1) #return an empty dictionary\n",
    "\n",
    "del job1"
   ]
  },
  {
   "cell_type": "markdown",
   "metadata": {},
   "source": [
    "To remove the entries associated with the `salary` and `available` keys from `job2`, we use the `del` keyword. Now if we go ahead and print `job2`, the `salary` and `available` entries are gone. Removing all items from `job1` entails using the `clear()` method, which leaves us with an empty dictionary. If we don't need a dictionary anymore, say `job1`, we use the `del` keyword to delete it. Now if we try printing `job1` we'll get a `NameError` since `job1` is no longer defined."
   ]
  },
  {
   "cell_type": "markdown",
   "metadata": {},
   "source": [
    "### Iteration\n",
    "Dictionaries are iterable, and we can iterate through them in 3 different ways:\n",
    " - `dict.values()` - this returns an iterable of the dictionary's values.\n",
    " - `dict.keys()` - this returns an iterable of the dictionary's keys.\n",
    " - `dict.items()` - this returns an iterable of the dictionary's (key,value) pairs.\n",
    "\n",
    "But why would we need to iterate over a dictionary? Our dataset has about 860 listings, suppose we wanted to display the properties of all these on our website, it wouldn't make sense to write the same markup 860 times. It would be efficient to dynamically render the data using a loop.\n",
    "Let's iterate over `job2` using a `for-loop` using all the three methods. Furthermore we'll use the `csv` module to read our csv-formatted data in to a list of dictionaries, then we'll iterate through all the dictionaries and print out the keys and values."
   ]
  },
  {
   "cell_type": "code",
   "execution_count": null,
   "metadata": {},
   "outputs": [],
   "source": [
    "# Using values()\n",
    "for val in job2.values():\n",
    "    print(val) #prints the values of job2\n",
    "    \n",
    "# Using keys()\n",
    "for key in job2.keys():\n",
    "    print(key) #prints the keys of job2\n",
    "\n",
    "# Dictionary iteration use case\n",
    "import csv\n",
    "with open('data/jobs.csv','r') as csv_file:\n",
    "    reader = csv.DictReader(csv_file)\n",
    "    for job in reader:\n",
    "        \n",
    "        # Using items()\n",
    "        for key,val in job.items():\n",
    "            # Apply any additional processing\n",
    "            print(key, val) #print the keys and values of each job"
   ]
  },
  {
   "cell_type": "markdown",
   "metadata": {},
   "source": [
    "First, we loop through the iterable `job2.values()` and print out the value during each iteration. Secondly, we iterate through `job2.keys()` while printing out the key. This is the default behaviour when iterating over a dictionary without specifying whether we want the keys, values or items. Finally, we step through the list of dictionaries, and for each one, loop through the keys and values simultaneously. We include both key and value in the for-loop constructor since `job.items()` yields a tuple of key and value during each iteration. We can now apply any kind of operation to our data at this point. Our implementation simply prints out the pair at each step."
   ]
  },
  {
   "cell_type": "markdown",
   "metadata": {},
   "source": [
    "### Sorting\n",
    "Borrowing from our description of dictionaries earlier, this data type in meant to be unordered, and doesn't come with the sorting functionality. Calling the `sorted()` function and passing it a dictionary only returns a list of the keys in a sorted order.\n",
    "\n",
    "If we use the `items()` iterable we could sort the items of our dictionary as we please. However, this doesn't give us our original dictionary, but an array of key-value tuples in a sorted order. Say we wanted to display the job details in the above example in alphabetical order, We would need to alter our iteration to give sorted results. Lets walk through the example again an see how we would achieve that functionality."
   ]
  },
  {
   "cell_type": "code",
   "execution_count": null,
   "metadata": {},
   "outputs": [],
   "source": [
    "with open('data/jobs.csv','r') as csv_file:\n",
    "    reader = csv.DictReader(csv_file)\n",
    "    for job in reader:\n",
    "        \n",
    "        # Using sorted() to sort a dictionary's items on the keys\n",
    "        for key,val in sorted(job.items(),key=lambda item:item[0]):\n",
    "        \n",
    "            # Apply any additional processing\n",
    "            print(key, val) #print the keys and values of each job\n"
   ]
  },
  {
   "cell_type": "markdown",
   "metadata": {},
   "source": [
    "In this example we use python's inbuilt `sorted()` function which takes in an iterable (our dictionary's items). The `key` argument of the `sorted()` function instructs `sorted()` to use the value at index 0 for sorting. Similarly, to sort by the values, we use index 1 instead of index 0."
   ]
  },
  {
   "cell_type": "markdown",
   "metadata": {},
   "source": [
    "### Other Methods\n",
    "Dictionaries have other methods that could be used on demand. To read up further on these, please consult the [python documentation](https://docs.python.org/3/library/stdtypes.html#typesmapping). Here are some other useful methods:\n",
    "- `pop(key,default)` - deletes the key `key` and returns it, or returns an optional `default` when the key doesn't exist.\n",
    "- `len(d)` - returns the number of items in a dictionary `d`.\n",
    "- `copy()` - returns a shallow copy of the original. This shallow copy has similar references to the original, and not copies of the original's items. \n",
    "- `setdefault(key,default)` - returns the value of `key` if in the dictionary, or sets the new key with an optional `default` as its value then returns the value."
   ]
  },
  {
   "cell_type": "markdown",
   "metadata": {},
   "source": [
    "## Speeding Up your Code\n",
    "\n",
    "Dictionary unpacking can greatly speed up our code. It involves destructuring a dictionary into individual keyword arguments with values. This is especially useful for cases that involve supplying multiple keyword arguments for example in function calls. To implement this functionality we use the iterable unpacking operator (`**`). \n",
    "\n",
    "What if we needed `Job` objects to work with, instead of dictionaries? We shouldn't have to do some heavy lifting to get our data reorganized in to objects. Let's see how we could translate our dictionaries into objects, by again tweaking our previous code."
   ]
  },
  {
   "cell_type": "code",
   "execution_count": null,
   "metadata": {},
   "outputs": [],
   "source": [
    "from data.jobs import Job\n",
    "\n",
    "# Creating a job object without unpacking\n",
    "Job(\"Marketing & Business Development Manager\",\"Mombasa\",\"Full Time\",\\\n",
    "     \"KUSCCO Limited (Kenya Union of Savings & Credit Co-operatives Limited)\",\\\n",
    "     \"Marketing & Communications\")\n",
    "\n",
    "\n",
    "with open('data/jobs.csv','r') as csv_file:\n",
    "    reader = csv.DictReader(csv_file)\n",
    "    for job in reader:\n",
    "        \n",
    "        # Creating a job object with unpacking\n",
    "        Job(**job2)"
   ]
  },
  {
   "cell_type": "markdown",
   "metadata": {},
   "source": [
    "To instantiate a new `Job` object, traditionally, we would need to pass in all the required arguments. However, with unpacking, we just pass in a dictionary with the `**` operator before it. The operator unpacks the dictionary in to an arbitrary number of named arguments. This approach is much cleaner and involves less code."
   ]
  },
  {
   "cell_type": "markdown",
   "metadata": {},
   "source": [
    "## Antipatterns: Wrong usage\n",
    "Compared to lists and tuples, dictionaries take up more space in memory, since they need to store both the key and value, as opposed to just values. Therefore, dictionaries should only be used in cases where we have associative data, that would lose meaning if stored in lists. Since dictionaries are unordered, it would not be sensible to store strictly arranged data in them. They are also mutable, and not suitable for storing data than shouldn't be modified in place.\n",
    "\n",
    "Dictionaries are well-designed to let us find a value instantly without necessarily having to search through the entire collection, hence we should not use loops for such an operation."
   ]
  },
  {
   "cell_type": "code",
   "execution_count": null,
   "metadata": {},
   "outputs": [],
   "source": [
    "# How not to search for a value and return it\n",
    "key_i_need = \"location\"\n",
    "target = \"\"\n",
    "for key in job2:\n",
    "    if key == key_i_need:\n",
    "        target = job2[key]\n",
    "        \n",
    "# How to search efficiently\n",
    "target = job2.get(\"location\")"
   ]
  },
  {
   "cell_type": "markdown",
   "metadata": {},
   "source": [
    "We have a variable `key_i_need` containing the key we want to search for. We have used a for loop to traverse the collection, comparing the key at each step with our variable. If we get a match, we assign that key's value to the variable `target`. This is the wrong approach. We should instead use `get()`, and pass it the desired key."
   ]
  },
  {
   "cell_type": "markdown",
   "metadata": {},
   "source": [
    "## Performance Tradeoffs\n",
    "In this section, we will be comparing the space-time trade-offs between dictionaries and objects. We will use the `timeit` module and `getsizeof` function to determine the time and space aspects. The operations we will be testing are:\n",
    "- Accessing an entry in a dictionary versus accessing a field in a object.\n",
    "- Adding a new entry to a dictionary versus adding a new field to an object.\n",
    "\n",
    "In terms of space, we will be testing the following operations:\n",
    "- Size of object classes.\n",
    "- Size of the default object.\n",
    "- Size of an empty dictionary.\n",
    "- Size of dictionary and object after adding one entry and one field respectively."
   ]
  },
  {
   "cell_type": "markdown",
   "metadata": {},
   "source": [
    "Let's start by comparing time differences between accessing a single entry from a dictionary and reading a field from an object."
   ]
  },
  {
   "cell_type": "code",
   "execution_count": null,
   "metadata": {},
   "outputs": [],
   "source": [
    "import timeit\n",
    "# Accessing entry using indexing operator\n",
    "timeit.timeit('string=\"Random String\"+job3[\"employer\"]',setup='job3 = {\"title\":\"Loans Manager\",\"location\":\"Mombasa\",\\\n",
    "\"job_type\":\"Full Time\",\"employer\":\"KUSCCO Limited (Kenya Union of Savings & Credit Co-operatives Limited)\",\\\n",
    "\"category\":\"Accounting & Auditing\"}',number=10000)\n",
    "\n",
    "# Accessing entry using get() method\n",
    "timeit.timeit('string=\"Random String\"+job3.get(\"employer\")',setup='job3 = {\"title\":\"Loans Manager\",\"location\":\"Mombasa\",\\\n",
    "\"job_type\":\"Full Time\",\"employer\":\"KUSCCO Limited (Kenya Union of Savings & Credit Co-operatives Limited)\",\\\n",
    "\"category\":\"Accounting & Auditing\"}',number=10000)\n",
    "\n",
    "# Accessing object field using namespace operator\n",
    "timeit.timeit('string=\"Random String\"+job3.employer',setup='from data.jobs import Job; job3 = Job(\"Loans Manager\",\"Mombasa\",\"Full Time\",\\\n",
    "\"KUSCCO Limited (Kenya Union of Savings & Credit Co-operatives Limited)\",\\\n",
    "\"Accounting & Auditing\")',number=10000)"
   ]
  },
  {
   "cell_type": "markdown",
   "metadata": {},
   "source": [
    "For the three tests, we look at the time it takes for each of the operations to execute 10000 loops. From our results, accessing an entry from a dictionary using the indexing operator is the fastest, closely followed by reading a field from an object using the namespace operator. Using `get()` to read an entry turn out to be slowest."
   ]
  },
  {
   "cell_type": "markdown",
   "metadata": {},
   "source": [
    "Next we'll look at execution times when adding a new dictionary entry and adding a new field to an object."
   ]
  },
  {
   "cell_type": "code",
   "execution_count": null,
   "metadata": {},
   "outputs": [],
   "source": [
    "# Adding a new entry using indexing and assignment operators\n",
    "timeit.timeit('job3[\"salary\"]=50000',setup='job3 = {\"title\":\"Loans Manager\",\"location\":\"Mombasa\",\\\n",
    "\"job_type\":\"Full Time\",\"employer\":\"KUSCCO Limited (Kenya Union of Savings & Credit Co-operatives Limited)\",\\\n",
    "\"category\":\"Accounting & Auditing\"}',number=10000)\n",
    "\n",
    "# Adding a new entry using update() method\n",
    "timeit.timeit('job3.update({\"salary\":50000})',setup='job3 = {\"title\":\"Loans Manager\",\"location\":\"Mombasa\",\\\n",
    "\"job_type\":\"Full Time\",\"employer\":\"KUSCCO Limited (Kenya Union of Savings & Credit Co-operatives Limited)\",\\\n",
    "\"category\":\"Accounting & Auditing\"}',number=10000)\n",
    "\n",
    "# Adding a new field to the object\n",
    "timeit.timeit('job3.salary = 50000',setup='from data.jobs import Job; job3 = Job(\"Loans Manager\",\"Mombasa\",\\\n",
    "\"Full Time\",\\\"KUSCCO Limited (Kenya Union of Savings & Credit Co-operatives Limited)\",\\\n",
    "\"Accounting & Auditing\")',number=10000)"
   ]
  },
  {
   "cell_type": "markdown",
   "metadata": {},
   "source": [
    "![time.png](./data/time.png)\n",
    "\n",
    "For this round of tests, adding a new entry to a dictionary using the indexing and assignment operators took the lead early. Adding a new field to an object was almost as fast, but came in second while `update()` method came in last. As far as time is concerned, we can conclude that the dictionary operation was faster."
   ]
  },
  {
   "cell_type": "markdown",
   "metadata": {},
   "source": [
    "Let's setup a new test environment for the speed tests, by initializing a `Job` object and creating a new dictionary with the same data."
   ]
  },
  {
   "cell_type": "code",
   "execution_count": null,
   "metadata": {},
   "outputs": [],
   "source": [
    "# create a job object\n",
    "from data.jobs import Job\n",
    "job_object = Job(\"Loans Manager\",\"Mombasa\",\"Full Time\",\\\n",
    "        \"KUSCCO Limited (Kenya Union of Savings & Credit Co-operatives Limited)\",\\\n",
    "        \"Accounting & Auditing\")\n",
    "\n",
    "# Create a job dictionary\n",
    "job_dict = {\"title\":\"Loans Manager\",\"location\":\"Mombasa\",\\\n",
    "\"job_type\":\"Full Time\",\"employer\":\"KUSCCO Limited (Kenya Union of Savings & Credit Co-operatives Limited)\",\\\n",
    "\"category\":\"Accounting & Auditing\"}\n",
    "\n",
    "# show that the internal values are the same\n",
    "job_dict == job_object.__dict__"
   ]
  },
  {
   "cell_type": "markdown",
   "metadata": {},
   "source": [
    "We will use `getsizeof()` function to measure the size of our objects, and compare them. `getsizeof()` only measures the size of an object, excluding its fields. However, for dictionaries, it includes the size of the hash table."
   ]
  },
  {
   "cell_type": "code",
   "execution_count": null,
   "metadata": {},
   "outputs": [],
   "source": [
    "from sys import getsizeof\n",
    "\n",
    "# Size of Job class\n",
    "getsizeof(Job)\n",
    "\n",
    "# Size of original Job() object\n",
    "getsizeof(Job())\n",
    "\n",
    "# Size of job_object\n",
    "getsizeof(job_object)\n",
    "\n",
    "# Size of dict object\n",
    "getsizeof(dict)\n",
    "\n",
    "# Size of empty dictionary {}\n",
    "getsizeof({})\n",
    "\n",
    "# Size of job_dict\n",
    "getsizeof(job_dict)"
   ]
  },
  {
   "cell_type": "markdown",
   "metadata": {},
   "source": [
    "From our results, we can tell that the `dict` class has a smaller memory footprint (400) compared to the `Job` class (1184). However, `job_object` has a smaller size (56) than `job_dict` (240)\n",
    "\n",
    "![empty.png](./data/empty.png)"
   ]
  },
  {
   "cell_type": "markdown",
   "metadata": {},
   "source": [
    "Now we can proceed to add a new entry to the `job_dict`, and create two new fields in `Job`.`Job2` and `Job3` are implementations of the `Job` class with one and two extra fields respectively."
   ]
  },
  {
   "cell_type": "code",
   "execution_count": null,
   "metadata": {},
   "outputs": [],
   "source": [
    "# Size of job_dict with one additional entry using update()\n",
    "job_dict2 = job_dict.copy()\n",
    "job_dict2.update({'salary':50000})\n",
    "getsizeof(job_dict2)\n",
    "\n",
    "# Size of job_dict with one additional entry using index and assignment operator\n",
    "job_dict['salary']=50000\n",
    "getsizeof(job_dict)"
   ]
  },
  {
   "cell_type": "code",
   "execution_count": null,
   "metadata": {},
   "outputs": [],
   "source": [
    "from data.jobs import Job2\n",
    "\n",
    "# Size of Job2 class - with one extra field\n",
    "getsizeof(Job2)\n",
    "\n",
    "# Size of Job2 default object - with one extra field\n",
    "getsizeof(Job2())"
   ]
  },
  {
   "cell_type": "code",
   "execution_count": null,
   "metadata": {},
   "outputs": [],
   "source": [
    "from data.jobs import Job3\n",
    "\n",
    "# Size of Job3 class - with two extra fields\n",
    "getsizeof(Job3)\n",
    "\n",
    "# Size of Job3 default object - with two extra fields\n",
    "getsizeof(Job3())"
   ]
  },
  {
   "cell_type": "markdown",
   "metadata": {},
   "source": [
    "![space.png](./data/space.png)\n",
    "\n",
    "Our tests point to the fact that objects take up smaller memory spaces than dictionaries, despite the class definitions being rather large. Dictionaries have a much bigger memory fingerprint due to their hash tables which are re-evaluated during every add operation."
   ]
  },
  {
   "cell_type": "markdown",
   "metadata": {},
   "source": [
    "## Conclusion\n",
    "Dictionaries come in very handy for regular python usage. They are suitable for use with unordered data that relies on relations. Caution should however be exercised to ensure we do not use dictionaries in the wrong way and end up slowing down execution of our code. For further reading please refer to the official python documentation on [mapping types](https://docs.python.org/3/library/stdtypes.html#typesmapping)."
   ]
  },
  {
   "cell_type": "markdown",
   "metadata": {},
   "source": [
    "<b>[&larr; Day 02 - 2.6 Datenstruktur List Additional](Day2_0206_List_Additional.ipynb) | [Day 03 - 1.1 Wiederholung Tag 02 &rarr;](../Day_03_Dateien/Day3_0101_Recap_Day_02.ipynb)</b>"
   ]
  }
 ],
 "metadata": {
  "kernelspec": {
   "display_name": "Python 3 (ipykernel)",
   "language": "python",
   "name": "python3"
  },
  "language_info": {
   "codemirror_mode": {
    "name": "ipython",
    "version": 3
   },
   "file_extension": ".py",
   "mimetype": "text/x-python",
   "name": "python",
   "nbconvert_exporter": "python",
   "pygments_lexer": "ipython3",
   "version": "3.10.8"
  }
 },
 "nbformat": 4,
 "nbformat_minor": 4
}
